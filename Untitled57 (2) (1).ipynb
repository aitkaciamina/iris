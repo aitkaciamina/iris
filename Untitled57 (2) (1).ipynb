{
 "cells": [
  {
   "cell_type": "code",
   "execution_count": 1,
   "id": "55348db2",
   "metadata": {},
   "outputs": [],
   "source": [
    "import sklearn\n",
    "import numpy as np"
   ]
  },
  {
   "cell_type": "code",
   "execution_count": 2,
   "id": "a4d4a966",
   "metadata": {},
   "outputs": [],
   "source": [
    " from sklearn.datasets import load_iris"
   ]
  },
  {
   "cell_type": "code",
   "execution_count": 3,
   "id": "af3601fa",
   "metadata": {},
   "outputs": [],
   "source": [
    "from sklearn import datasets\n",
    "iris_X,iris_y = datasets.load_iris(return_X_y = True , as_frame = True)"
   ]
  },
  {
   "cell_type": "code",
   "execution_count": 4,
   "id": "75f53944",
   "metadata": {},
   "outputs": [
    {
     "name": "stdout",
     "output_type": "stream",
     "text": [
      "     sepal length (cm)  sepal width (cm)  petal length (cm)  petal width (cm)\n",
      "0                  5.1               3.5                1.4               0.2\n",
      "1                  4.9               3.0                1.4               0.2\n",
      "2                  4.7               3.2                1.3               0.2\n",
      "3                  4.6               3.1                1.5               0.2\n",
      "4                  5.0               3.6                1.4               0.2\n",
      "..                 ...               ...                ...               ...\n",
      "145                6.7               3.0                5.2               2.3\n",
      "146                6.3               2.5                5.0               1.9\n",
      "147                6.5               3.0                5.2               2.0\n",
      "148                6.2               3.4                5.4               2.3\n",
      "149                5.9               3.0                5.1               1.8\n",
      "\n",
      "[150 rows x 4 columns]\n"
     ]
    }
   ],
   "source": [
    "print(iris_X)"
   ]
  },
  {
   "cell_type": "code",
   "execution_count": 5,
   "id": "c3dad1c2",
   "metadata": {},
   "outputs": [
    {
     "name": "stdout",
     "output_type": "stream",
     "text": [
      "0      0\n",
      "1      0\n",
      "2      0\n",
      "3      0\n",
      "4      0\n",
      "      ..\n",
      "145    2\n",
      "146    2\n",
      "147    2\n",
      "148    2\n",
      "149    2\n",
      "Name: target, Length: 150, dtype: int32\n"
     ]
    }
   ],
   "source": [
    "print(iris_y)"
   ]
  },
  {
   "cell_type": "code",
   "execution_count": 5,
   "id": "91162656",
   "metadata": {},
   "outputs": [],
   "source": [
    "from sklearn.model_selection import train_test_split"
   ]
  },
  {
   "cell_type": "code",
   "execution_count": 6,
   "id": "e484206a",
   "metadata": {},
   "outputs": [],
   "source": [
    "x = iris_X\n",
    "y= iris_y"
   ]
  },
  {
   "cell_type": "code",
   "execution_count": 7,
   "id": "50998564",
   "metadata": {},
   "outputs": [],
   "source": [
    "X_train,X_test,Y_train,Y_test = train_test_split(x,y,test_size=0.2,random_state=0)"
   ]
  },
  {
   "cell_type": "code",
   "execution_count": 8,
   "id": "0c934644",
   "metadata": {},
   "outputs": [],
   "source": [
    "class logistic_regression():\n",
    "    def __init__(self,learning_rate,iterations):\n",
    "        self.learning_rate=learning_rate\n",
    "        self.iterations=iterations\n",
    "    def fit(self,X,Y):\n",
    "        self.m,self.n=X.shape\n",
    "        self.W=np.zeros(self.n)\n",
    "        self.b=0\n",
    "        self.X=X\n",
    "        self.Y=Y\n",
    "        \n",
    "        for i in range (self.iterations):\n",
    "            self.update_weights()\n",
    "        return self\n",
    "    def update_weights(self):\n",
    "        A = 1/(1+np.exp(-(self.X.dot(self.W)+self.b)))\n",
    "        tmp = (A-self.Y.T)\n",
    "        tmp = np.reshape(tmp,self.m)\n",
    "        dW = np.dot(self.X.T,tmp)/self.m\n",
    "        db = np.sum(tmp)/self.m\n",
    "        \n",
    "        self.W = self.W-self.learning_rate*dW\n",
    "        self.b = self.b-self.learning_rate*db\n",
    "        \n",
    "        return self\n",
    "    def predict(self,X):\n",
    "        Z = 1/(1+np.exp(-(X.dot(self.W)+self.b)))\n",
    "        Y = np.where(Z>0.5,1,0)\n",
    "        return Y"
   ]
  },
  {
   "cell_type": "code",
   "execution_count": 76,
   "id": "c4e25d1c",
   "metadata": {},
   "outputs": [],
   "source": [
    "def get_accuracy(y_pred,Y_test):\n",
    "    correctly_classified = 0\n",
    "    # Changed here, because Y_pred is of type pandas.core.Series\n",
    "    for i, elem in enumerate (Y_pred):\n",
    "        if elem ==y_pred[i]:\n",
    "            correctly_classified=correctly_classified+1\n",
    "        acc = (correctly_classified/len(Y_pred))*100\n",
    "    return acc\n",
    "    "
   ]
  },
  {
   "cell_type": "code",
   "execution_count": 9,
   "id": "4cf9213e",
   "metadata": {},
   "outputs": [],
   "source": [
    "model = logistic_regression(learning_rate=0.01,iterations=1000)\n",
    "model.fit(X_train,Y_train)\n",
    "Y_pred=model.predict(X_test)"
   ]
  },
  {
   "cell_type": "code",
   "execution_count": 16,
   "id": "51529a2e",
   "metadata": {},
   "outputs": [],
   "source": [
    "from sklearn.linear_model import LogisticRegression\n",
    "sk_model = LogisticRegression(max_iter=200)"
   ]
  },
  {
   "cell_type": "code",
   "execution_count": 17,
   "id": "01649504",
   "metadata": {},
   "outputs": [
    {
     "data": {
      "text/plain": [
       "LogisticRegression(max_iter=200)"
      ]
     },
     "execution_count": 17,
     "metadata": {},
     "output_type": "execute_result"
    }
   ],
   "source": [
    "sk_model.fit(X_train,Y_train)"
   ]
  },
  {
   "cell_type": "code",
   "execution_count": 18,
   "id": "08eb9704",
   "metadata": {},
   "outputs": [],
   "source": [
    "y_pred2 = sk_model.predict(X_test)"
   ]
  },
  {
   "cell_type": "code",
   "execution_count": 37,
   "id": "55041844",
   "metadata": {},
   "outputs": [],
   "source": [
    "from sklearn.metrics import accuracy_score"
   ]
  },
  {
   "cell_type": "code",
   "execution_count": 48,
   "id": "3a0b5019",
   "metadata": {},
   "outputs": [
    {
     "data": {
      "text/plain": [
       "0.43333333333333335"
      ]
     },
     "execution_count": 48,
     "metadata": {},
     "output_type": "execute_result"
    }
   ],
   "source": [
    "accuracy_score(Y_pred,Y_test)"
   ]
  },
  {
   "cell_type": "code",
   "execution_count": 30,
   "id": "384a6829",
   "metadata": {},
   "outputs": [
    {
     "data": {
      "text/plain": [
       "array([2, 1, 0, 2, 0, 2, 0, 1, 1, 1, 2, 1, 1, 1, 1, 0, 1, 1, 0, 0, 2, 1,\n",
       "       0, 0, 2, 0, 0, 1, 1, 0])"
      ]
     },
     "execution_count": 30,
     "metadata": {},
     "output_type": "execute_result"
    }
   ],
   "source": [
    "y_pred2"
   ]
  },
  {
   "cell_type": "code",
   "execution_count": 77,
   "id": "4bc83ba0",
   "metadata": {},
   "outputs": [],
   "source": [
    "acc2 = get_accuracy(y_pred2,Y_test)"
   ]
  },
  {
   "cell_type": "code",
   "execution_count": 78,
   "id": "370e95a9",
   "metadata": {},
   "outputs": [
    {
     "data": {
      "text/plain": [
       "43.333333333333336"
      ]
     },
     "execution_count": 78,
     "metadata": {},
     "output_type": "execute_result"
    }
   ],
   "source": [
    "acc2"
   ]
  }
 ],
 "metadata": {
  "kernelspec": {
   "display_name": "Python 3 (ipykernel)",
   "language": "python",
   "name": "python3"
  },
  "language_info": {
   "codemirror_mode": {
    "name": "ipython",
    "version": 3
   },
   "file_extension": ".py",
   "mimetype": "text/x-python",
   "name": "python",
   "nbconvert_exporter": "python",
   "pygments_lexer": "ipython3",
   "version": "3.9.7"
  }
 },
 "nbformat": 4,
 "nbformat_minor": 5
}
